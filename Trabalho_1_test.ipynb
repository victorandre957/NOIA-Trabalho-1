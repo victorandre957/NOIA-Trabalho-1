{
 "cells": [
  {
   "cell_type": "markdown",
   "id": "bf24c123",
   "metadata": {},
   "source": [
    "### Imports Libs"
   ]
  },
  {
   "cell_type": "code",
   "execution_count": 1,
   "id": "bc41d5c4",
   "metadata": {},
   "outputs": [
    {
     "name": "stderr",
     "output_type": "stream",
     "text": [
      "2024-11-16 20:37:57.789966: E external/local_xla/xla/stream_executor/cuda/cuda_fft.cc:477] Unable to register cuFFT factory: Attempting to register factory for plugin cuFFT when one has already been registered\n",
      "WARNING: All log messages before absl::InitializeLog() is called are written to STDERR\n",
      "E0000 00:00:1731800277.802152   29073 cuda_dnn.cc:8310] Unable to register cuDNN factory: Attempting to register factory for plugin cuDNN when one has already been registered\n",
      "E0000 00:00:1731800277.805727   29073 cuda_blas.cc:1418] Unable to register cuBLAS factory: Attempting to register factory for plugin cuBLAS when one has already been registered\n",
      "2024-11-16 20:37:57.818919: I tensorflow/core/platform/cpu_feature_guard.cc:210] This TensorFlow binary is optimized to use available CPU instructions in performance-critical operations.\n",
      "To enable the following instructions: AVX2 FMA, in other operations, rebuild TensorFlow with the appropriate compiler flags.\n"
     ]
    }
   ],
   "source": [
    "import tensorflow as tf\n",
    "import numpy as np\n",
    "import matplotlib.pyplot as plt\n",
    "from sklearn.metrics import confusion_matrix, ConfusionMatrixDisplay\n"
   ]
  },
  {
   "cell_type": "markdown",
   "id": "db21df83",
   "metadata": {},
   "source": [
    "### Prepare data"
   ]
  },
  {
   "cell_type": "code",
   "execution_count": 2,
   "id": "74fec882",
   "metadata": {},
   "outputs": [],
   "source": [
    "def load_mnist():\n",
    "    (x_train, y_train), (x_val, y_val) = tf.keras.datasets.mnist.load_data()\n",
    "    x_train, x_val = x_train / 255.0, x_val / 255.0 \n",
    "    x_train, x_val = tf.expand_dims(x_train, axis=-1), tf.expand_dims(x_val, axis=-1)\n",
    "    return (x_train, y_train), (x_val, y_val)"
   ]
  },
  {
   "cell_type": "code",
   "execution_count": 3,
   "id": "9cbed809",
   "metadata": {},
   "outputs": [
    {
     "name": "stdout",
     "output_type": "stream",
     "text": [
      "training dataset dimension: (60000, 28, 28, 1), (60000,)\n",
      "dataset validation dimension: (10000, 28, 28, 1), (10000,)\n"
     ]
    },
    {
     "name": "stderr",
     "output_type": "stream",
     "text": [
      "I0000 00:00:1731800281.554485   29073 gpu_device.cc:2022] Created device /job:localhost/replica:0/task:0/device:GPU:0 with 4274 MB memory:  -> device: 0, name: NVIDIA GeForce RTX 3060 Laptop GPU, pci bus id: 0000:01:00.0, compute capability: 8.6\n"
     ]
    }
   ],
   "source": [
    "(x_train, y_train), (x_val, y_val) = load_mnist()\n",
    "\n",
    "print(f\"training dataset dimension: {x_train.shape}, {y_train.shape}\")\n",
    "print(f\"dataset validation dimension: {x_val.shape}, {y_val.shape}\")"
   ]
  },
  {
   "cell_type": "code",
   "execution_count": 4,
   "id": "fec88f3e",
   "metadata": {},
   "outputs": [],
   "source": [
    "def create_dataloader(X, y, batch_size, shuffle=True):\n",
    "    X = tf.cast(X, dtype=tf.float32)\n",
    "    y = tf.cast(y, dtype=tf.int32)\n",
    "    dataset = tf.data.Dataset.from_tensor_slices((X, y))\n",
    "    if shuffle:\n",
    "        dataset = dataset.shuffle(buffer_size=len(y))\n",
    "    return dataset.batch(batch_size)\n"
   ]
  },
  {
   "cell_type": "code",
   "execution_count": 5,
   "id": "e3730815",
   "metadata": {},
   "outputs": [],
   "source": [
    "batch_size = 64\n",
    "train_loader = create_dataloader(x_train, y_train, batch_size)\n",
    "val_loader = create_dataloader(x_val, y_val, batch_size, shuffle=False)"
   ]
  },
  {
   "cell_type": "code",
   "execution_count": 6,
   "id": "9eeb3248",
   "metadata": {},
   "outputs": [],
   "source": [
    "class MLP:\n",
    "    def __init__(self, input_shape, num_classes):\n",
    "        self.num_classes = num_classes\n",
    "        self.weights = {\n",
    "            \"W1\": tf.Variable(tf.random.normal([28 * 28, 128], stddev=0.1, dtype=tf.float32)),\n",
    "            \"W2\": tf.Variable(tf.random.normal([128, 64], stddev=0.1, dtype=tf.float32)),\n",
    "            \"W3\": tf.Variable(tf.random.normal([64, num_classes], stddev=0.1, dtype=tf.float32)),\n",
    "        }\n",
    "        self.biases = {\n",
    "            \"b1\": tf.Variable(tf.zeros([128], dtype=tf.float32)),\n",
    "            \"b2\": tf.Variable(tf.zeros([64], dtype=tf.float32)),\n",
    "            \"b3\": tf.Variable(tf.zeros([num_classes], dtype=tf.float32)),\n",
    "        }\n",
    "\n",
    "\n",
    "    def forward(self, x):\n",
    "        x = tf.reshape(x, [-1, 28 * 28])  # Achatar a entrada\n",
    "        h1 = tf.nn.relu(tf.matmul(x, self.weights[\"W1\"]) + self.biases[\"b1\"])\n",
    "        h2 = tf.nn.relu(tf.matmul(h1, self.weights[\"W2\"]) + self.biases[\"b2\"])\n",
    "        out = tf.matmul(h2, self.weights[\"W3\"]) + self.biases[\"b3\"]\n",
    "        return out\n",
    "\n",
    "    def predict(self, x):\n",
    "        logits = self.forward(x)\n",
    "        return tf.argmax(logits, axis=1)"
   ]
  },
  {
   "cell_type": "code",
   "execution_count": 7,
   "id": "c08c3268",
   "metadata": {},
   "outputs": [],
   "source": [
    "mlp = MLP(input_shape=(28, 28, 1), num_classes=10)"
   ]
  },
  {
   "cell_type": "code",
   "execution_count": 8,
   "id": "96a127a8",
   "metadata": {},
   "outputs": [],
   "source": [
    "def cross_entropy_loss(logits, labels):\n",
    "    labels = tf.cast(labels, dtype=tf.int32)\n",
    "    return tf.reduce_mean(tf.nn.sparse_softmax_cross_entropy_with_logits(labels=labels, logits=logits))\n",
    "\n",
    "\n",
    "optimizer = tf.optimizers.Adam()"
   ]
  },
  {
   "cell_type": "code",
   "execution_count": 9,
   "id": "6546ae06",
   "metadata": {},
   "outputs": [],
   "source": [
    "def train_step(model, x, y):\n",
    "    with tf.GradientTape() as tape:\n",
    "        logits = model.forward(tf.cast(x, dtype=tf.float32))\n",
    "        loss = cross_entropy_loss(logits, y)\n",
    "    gradients = tape.gradient(loss, list(model.weights.values()) + list(model.biases.values()))\n",
    "    optimizer.apply_gradients(zip(gradients, list(model.weights.values()) + list(model.biases.values())))\n",
    "    return loss"
   ]
  },
  {
   "cell_type": "code",
   "execution_count": 10,
   "id": "a05adfa3",
   "metadata": {},
   "outputs": [],
   "source": [
    "def evaluate(model, dataloader):\n",
    "    correct = 0\n",
    "    total = 0\n",
    "    for x, y in dataloader:\n",
    "        preds = model.predict(x)\n",
    "        # Converta os tensores para int64 antes da comparação\n",
    "        correct += tf.reduce_sum(tf.cast(tf.equal(tf.cast(preds, tf.int64), tf.cast(y, tf.int64)), tf.int32)).numpy()\n",
    "        total += x.shape[0]\n",
    "    return correct / total\n"
   ]
  },
  {
   "cell_type": "code",
   "execution_count": 11,
   "id": "b8b8fa9d",
   "metadata": {},
   "outputs": [
    {
     "name": "stderr",
     "output_type": "stream",
     "text": [
      "2024-11-16 20:38:19.032371: I tensorflow/core/framework/local_rendezvous.cc:405] Local rendezvous is aborting with status: OUT_OF_RANGE: End of sequence\n",
      "2024-11-16 20:38:19.298509: I tensorflow/core/framework/local_rendezvous.cc:405] Local rendezvous is aborting with status: OUT_OF_RANGE: End of sequence\n"
     ]
    },
    {
     "name": "stdout",
     "output_type": "stream",
     "text": [
      "Época 1, Acurácia: 0.9595\n"
     ]
    },
    {
     "name": "stderr",
     "output_type": "stream",
     "text": [
      "2024-11-16 20:38:36.208856: I tensorflow/core/framework/local_rendezvous.cc:405] Local rendezvous is aborting with status: OUT_OF_RANGE: End of sequence\n"
     ]
    },
    {
     "name": "stdout",
     "output_type": "stream",
     "text": [
      "Época 2, Acurácia: 0.9670\n",
      "Época 3, Acurácia: 0.9700\n"
     ]
    },
    {
     "name": "stderr",
     "output_type": "stream",
     "text": [
      "2024-11-16 20:39:09.372751: I tensorflow/core/framework/local_rendezvous.cc:405] Local rendezvous is aborting with status: OUT_OF_RANGE: End of sequence\n"
     ]
    },
    {
     "name": "stdout",
     "output_type": "stream",
     "text": [
      "Época 4, Acurácia: 0.9727\n",
      "Época 5, Acurácia: 0.9752\n"
     ]
    }
   ],
   "source": [
    "epochs = 5\n",
    "for epoch in range(epochs):\n",
    "    for x_batch, y_batch in train_loader:  # Certifique-se de que os dados estão corretos\n",
    "        loss = train_step(mlp, x_batch, y_batch)\n",
    "    accuracy = evaluate(mlp, val_loader)  # Validação\n",
    "    print(f\"Época {epoch + 1}, Acurácia: {accuracy:.4f}\")\n"
   ]
  },
  {
   "cell_type": "code",
   "execution_count": 12,
   "id": "13e3a799",
   "metadata": {},
   "outputs": [],
   "source": [
    "imgs,label, y_pred, y_true = [], [], [], []\n",
    "for x_batch, y_batch in val_loader:\n",
    "    y_pred.extend(mlp.predict(x_batch).numpy())\n",
    "    imgs.extend(x_batch)\n",
    "    label.extend(y_batch)\n",
    "    y_true.extend(y_batch.numpy())"
   ]
  },
  {
   "cell_type": "code",
   "execution_count": 13,
   "id": "9ba73250",
   "metadata": {},
   "outputs": [
    {
     "data": {
      "image/png": "[encoded data removed]",
      "text/plain": [
       "<Figure size 640x480 with 2 Axes>"
      ]
     },
     "metadata": {},
     "output_type": "display_data"
    }
   ],
   "source": [
    "cm = confusion_matrix(y_true, y_pred)\n",
    "disp = ConfusionMatrixDisplay(confusion_matrix=cm, display_labels=range(10))\n",
    "disp.plot(cmap=plt.cm.Blues)\n",
    "plt.show()"
   ]
  },
  {
   "cell_type": "code",
   "execution_count": 14,
   "id": "c04b425a",
   "metadata": {},
   "outputs": [],
   "source": [
    "y_pred2 = np.atleast_1d(y_pred)\n",
    "y_true2 = np.atleast_1d(y_true)\n",
    "\n",
    "\n",
    "differences = np.nonzero(y_pred2 != y_true2)[0]\n",
    "index = 0\n"
   ]
  },
  {
   "cell_type": "code",
   "execution_count": 79,
   "id": "4eca3bf0",
   "metadata": {},
   "outputs": [
    {
     "data": {
      "image/png": "[encoded data removed]",
      "text/plain": [
       "<Figure size 640x480 with 1 Axes>"
      ]
     },
     "metadata": {},
     "output_type": "display_data"
    }
   ],
   "source": [
    "i = differences[index]\n",
    "img = imgs[i]\n",
    "true_label = label[i].numpy()  \n",
    "predicted_label = y_pred[i]\n",
    "\n",
    "# Exibir a imagem\n",
    "plt.imshow(img.numpy().squeeze(), cmap='gray')  # Exibe a imagem em tons de cinza\n",
    "plt.title(f\"Índice: {i}, Rótulo Verdadeiro: {true_label}, Previsão: {predicted_label}\")\n",
    "plt.axis('off')  # Remove os eixos\n",
    "plt.show()\n",
    "\n",
    "index += 1\n"
   ]
  }
 ],
 "metadata": {
  "kernelspec": {
   "display_name": ".venv",
   "language": "python",
   "name": "python3"
  },
  "language_info": {
   "codemirror_mode": {
    "name": "ipython",
    "version": 3
   },
   "file_extension": ".py",
   "mimetype": "text/x-python",
   "name": "python",
   "nbconvert_exporter": "python",
   "pygments_lexer": "ipython3",
   "version": "3.12.6"
  }
 },
 "nbformat": 4,
 "nbformat_minor": 5
}
